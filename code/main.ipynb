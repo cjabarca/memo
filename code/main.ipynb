{
 "cells": [
  {
   "cell_type": "markdown",
   "metadata": {},
   "source": [
    "# Librerías"
   ]
  },
  {
   "cell_type": "code",
   "execution_count": 6,
   "metadata": {},
   "outputs": [],
   "source": [
    "import numpy as np\n",
    "import scipy as sp\n",
    "import matplotlib.pyplot as plt\n",
    "from matplotlib.collections import LineCollection"
   ]
  },
  {
   "cell_type": "markdown",
   "metadata": {},
   "source": [
    "# Instancia"
   ]
  },
  {
   "cell_type": "code",
   "execution_count": 7,
   "metadata": {},
   "outputs": [],
   "source": [
    "PATH = '../voronoi/2K'\n",
    "VERTEX_PATH = PATH + '/vertices.txt'\n",
    "RIDGES_PATH = PATH + '/ridges.txt'\n",
    "ORIS_PATH = PATH + '/oris.txt'\n",
    "SE_PATH = PATH + '/SE/uniform.txt'\n",
    "N_GRAINS = 1000 #>=3\n",
    "SEED = 123\n",
    "DOMAIN_BOUND = 1.0\n",
    "eps = 0.2\n"
   ]
  },
  {
   "cell_type": "code",
   "execution_count": 8,
   "metadata": {},
   "outputs": [
    {
     "name": "stdout",
     "output_type": "stream",
     "text": [
      "Vertices: 2000\n",
      "Ridges: 3000\n",
      "Orientations: 1000\n",
      "Using uniform distribution for SE\n",
      "SE uniform: 1000\n"
     ]
    }
   ],
   "source": [
    "!python ../voronoi/voronoi.py $N_GRAINS $SEED $VERTEX_PATH $RIDGES_PATH $ORIS_PATH $SE_PATH"
   ]
  },
  {
   "cell_type": "code",
   "execution_count": 9,
   "metadata": {},
   "outputs": [],
   "source": [
    "ridges = np.loadtxt(RIDGES_PATH, dtype = int)\n",
    "vertices = np.loadtxt(VERTEX_PATH)\n",
    "oris = np.loadtxt(ORIS_PATH)\n",
    "SE = np.loadtxt(SE_PATH)"
   ]
  },
  {
   "cell_type": "markdown",
   "metadata": {},
   "source": [
    "# Funciones"
   ]
  },
  {
   "cell_type": "code",
   "execution_count": 10,
   "metadata": {},
   "outputs": [],
   "source": [
    "def wrap_dist(dest, orig, DOMAIN_BOUND):\n",
    "    delta = dest - orig\n",
    "    if delta[0] > DOMAIN_BOUND*0.5:\n",
    "        delta[0] = delta[0] - DOMAIN_BOUND\n",
    "    elif delta[0] < -0.5*DOMAIN_BOUND:\n",
    "        delta[0] = DOMAIN_BOUND + delta[0]\n",
    "    if delta[1] > 0.5*DOMAIN_BOUND:\n",
    "        delta[1] = delta[1] - DOMAIN_BOUND\n",
    "    elif delta[1] < -0.5*DOMAIN_BOUND:\n",
    "        delta[1] = DOMAIN_BOUND + delta[1]\n",
    "    return delta"
   ]
  },
  {
   "cell_type": "code",
   "execution_count": 11,
   "metadata": {},
   "outputs": [],
   "source": [
    "def _adjust_points(xpos, ypos, DOMAIN_BOUND):\n",
    "    rang = len(xpos)\n",
    "    xret = np.zeros(rang)\n",
    "    yret = np.zeros(rang)\n",
    "    xret[:] = xpos\n",
    "    yret[:] = ypos\n",
    "    for i in range(1, rang):\n",
    "        curr = np.array([xret[i], yret[i]])\n",
    "        prev = np.array([xret[i - 1], yret[i - 1]])\n",
    "        delta = wrap_dist(curr, prev, DOMAIN_BOUND)\n",
    "        curr = prev + delta\n",
    "        xret[i] = curr[0]\n",
    "        yret[i] = curr[1]\n",
    "    return xret, yret"
   ]
  },
  {
   "cell_type": "code",
   "execution_count": 13,
   "metadata": {},
   "outputs": [],
   "source": [
    "def plot_structure(boundarys, vertexs, domain=1.0, lw=1.0, figsize=(10, 7), vertex_plot=False):\n",
    "    \"\"\"\n",
    "        Plot boundaries lines\n",
    "    \"\"\"\n",
    "    fig = plt.figure(figsize=figsize)\n",
    "    ax = fig.add_subplot(111)\n",
    "    coords = [bnd for bnd in boundarys]\n",
    "    coords2 = [bnd+[domain,0] for bnd in boundarys if np.any(bnd[:,0] < 0)]\n",
    "    coords3 = [bnd+[-domain,0] for bnd in boundarys if np.any(bnd[:,0] > domain)]\n",
    "    coords4 = [bnd+[0,domain] for bnd in boundarys if np.any(bnd[:,1] < 0)]\n",
    "    coords5 = [bnd+[0,-domain] for bnd in boundarys if np.any(bnd[:,1] > domain)]\n",
    "    coords6 = [bnd+[domain,domain] for bnd in boundarys \\\n",
    "                if np.any(bnd[:,0] < 0) and np.any(bnd[:,1] < 0)]\n",
    "    coords7 = [bnd+[-domain,-domain] for bnd in boundarys \\\n",
    "                if np.any(bnd[:,0] > domain) and np.any(bnd[:,1] > domain)]\n",
    "    coords8 = [bnd+[-domain,domain] for bnd in boundarys \\\n",
    "                if np.any(bnd[:,0] > domain) and np.any(bnd[:,1] < 0)]\n",
    "    coords9 = [bnd+[domain,-domain] for bnd in boundarys \\\n",
    "                if np.any(bnd[:,0] < 0) and np.any(bnd[:,1] > domain)]\n",
    "    coords = coords+coords2+coords3+coords4+coords5+coords6+coords7+coords8+coords9\n",
    "    bnd_collection = LineCollection(coords, lw=lw, color='k')\n",
    "    ax.add_collection(bnd_collection)\n",
    "    \"\"\"\n",
    "        Plot vertexs\n",
    "    \"\"\"\n",
    "    if vertex_plot:\n",
    "        plt.xlim(0., 1.)\n",
    "        plt.ylim(0., 1.)\n",
    "        plt.plot(vertexs[:,0], vertexs[:, 1], \"ko\", ms=1.0)\n",
    "    return ax"
   ]
  },
  {
   "cell_type": "code",
   "execution_count": 14,
   "metadata": {},
   "outputs": [],
   "source": [
    "def get_all_bounds_coords(ridges, vertices):\n",
    "    boundarys = np.array([[[vertices[bound[0]][0], \n",
    "                        vertices[bound[0]][1]],\n",
    "                       [vertices[bound[1]][0], \n",
    "                        vertices[bound[1]][1]]] for bound in ridges])\n",
    "    return boundarys"
   ]
  },
  {
   "cell_type": "code",
   "execution_count": 15,
   "metadata": {},
   "outputs": [],
   "source": [
    "def adjust_all_bounds(boundarys, bound_domain):\n",
    "    boundarys_mod = np.zeros(boundarys.shape)\n",
    "    for index, bound in enumerate(boundarys):\n",
    "        ret = _adjust_points(bound[:,0], bound[:,1], bound_domain)\n",
    "        boundarys_mod[index][:, 0] = ret[0]\n",
    "        boundarys_mod[index][:, 1] = ret[1]\n",
    "    return boundarys_mod"
   ]
  },
  {
   "cell_type": "code",
   "execution_count": 16,
   "metadata": {},
   "outputs": [],
   "source": [
    "def compute_T(v_ini, v_fin, domain):\n",
    "    dist = wrap_dist(v_fin, v_ini, domain)\n",
    "    angle = np.arctan2(dist[1], dist[0])\n",
    "    T_m = np.array([np.cos(angle), np.sin(angle)])\n",
    "    return T_m"
   ]
  },
  {
   "cell_type": "code",
   "execution_count": 17,
   "metadata": {},
   "outputs": [],
   "source": [
    "def get_neights_and_energys(vertex_n, vertex_association, ridges, bounds_energy):\n",
    "    neights = {}\n",
    "    for bound in vertex_association[vertex_n]:\n",
    "        if ridges[bound][0] == vertex_n:\n",
    "            neights[ridges[bound][1]] = bounds_energy[bound]\n",
    "        else:\n",
    "            neights[ridges[bound][0]] = bounds_energy[bound]\n",
    "    return neights"
   ]
  },
  {
   "cell_type": "code",
   "execution_count": 18,
   "metadata": {},
   "outputs": [],
   "source": [
    "\"\"\"\n",
    "output: {verticei:boundi1, boundi2, boundi3, ..., verticen:boundn1, ...}\n",
    "\"\"\"\n",
    "\n",
    "def associate_all_bound_to_vertex(boundarys):\n",
    "    vertex_association = {}\n",
    "    for index, bound in enumerate(boundarys):\n",
    "        v1, v2 = bound\n",
    "        if v1 not in vertex_association:\n",
    "            vertex_association[v1] = list()\n",
    "        if v2 not in vertex_association:\n",
    "            vertex_association[v2] = list()\n",
    "        vertex_association[v1].append(index)\n",
    "        vertex_association[v2].append(index)\n",
    "    return vertex_association"
   ]
  },
  {
   "cell_type": "code",
   "execution_count": 19,
   "metadata": {},
   "outputs": [],
   "source": [
    "def vertex_set_boundaries_clockwise(vertex_association, ridges, vertices, domain):\n",
    "    for vertex in vertex_association:\n",
    "        angle = np.zeros(3)\n",
    "        for i in np.arange(3):\n",
    "            ini_v = ridges[vertex_association[vertex][i]][0]\n",
    "            end_v = ridges[vertex_association[vertex][i]][1]\n",
    "            current = vertices[vertex]\n",
    "            delta = wrap_dist(vertices[end_v], current, domain) if ini_v == vertex else wrap_dist(vertices[ini_v], current, domain)\n",
    "            angle[i] = np.arctan2(delta[1], delta[0])\n",
    "        for i in np.arange(2):\n",
    "            for p in np.arange(1, 3-i):\n",
    "                if angle[p-1] < angle[p]:\n",
    "                    angle[p-1], angle[p] = angle[p], angle[p-1]\n",
    "                    vertex_association[vertex][p-1], vertex_association[vertex][p] = vertex_association[vertex][p], vertex_association[vertex][p-1]"
   ]
  },
  {
   "cell_type": "code",
   "execution_count": 20,
   "metadata": {},
   "outputs": [],
   "source": [
    "def find_vertex_pos(vertices, vertex):\n",
    "    return np.where(np.all(vertices==vertex,axis=1))[0][0]"
   ]
  },
  {
   "cell_type": "code",
   "execution_count": 21,
   "metadata": {},
   "outputs": [],
   "source": [
    "def generate_grains(n_vertices, vertex_association, ridges):\n",
    "    lengrains = 0\n",
    "    grains = dict()\n",
    "    n_vertices = vertices.shape[0]\n",
    "    considerated = np.full(3*n_vertices, False)\n",
    "    for j in np.arange(n_vertices):\n",
    "        start_v = j\n",
    "        for g in np.arange(3):\n",
    "            if not considerated[j*3 + g]:\n",
    "                grain_vertex_list = list()\n",
    "                current_v = start_v\n",
    "                current_side = g\n",
    "                while True:\n",
    "                    j_idx = current_v\n",
    "                    if considerated[j_idx * 3 + current_side]:\n",
    "                        print(\"Error!!!!!!!!! MORIR PROGRAMA!\")\n",
    "                        input(\"Enter para confirmar que se sabe que murio programa.\")\n",
    "                    considerated[j_idx * 3 + current_side] = True\n",
    "                    grain_vertex_list.append(current_v)\n",
    "                    bnd = vertex_association[current_v][current_side]\n",
    "                    current_v = ridges[bnd][1] if ridges[bnd][0] == current_v else ridges[bnd][0]\n",
    "                    i = 0\n",
    "                    while True:\n",
    "                        if vertex_association[current_v][i] == bnd:\n",
    "                            break\n",
    "                        i+=1\n",
    "                    current_side = (i+1) % 3\n",
    "                    if current_v == start_v:\n",
    "                        break\n",
    "                grains[lengrains] = grain_vertex_list\n",
    "                lengrains += 1\n",
    "    if lengrains != N_GRAINS:\n",
    "        print(\"No calzan los granos.\")\n",
    "    return grains"
   ]
  },
  {
   "cell_type": "code",
   "execution_count": 22,
   "metadata": {},
   "outputs": [],
   "source": [
    "def bound_energy_func(d_alpha, eps):\n",
    "    return 1. + 0.5*eps*(1. - np.power(np.cos(4.*d_alpha), 3.))"
   ]
  },
  {
   "cell_type": "code",
   "execution_count": 23,
   "metadata": {},
   "outputs": [],
   "source": [
    "def associate_grains_to_vertex(grains):\n",
    "    grains_of_vertex = {}\n",
    "    for i in np.arange(N_GRAINS):\n",
    "        for j in np.arange(len(grains[i])):\n",
    "            actual_vertex = grains[i][j]\n",
    "            if actual_vertex not in grains_of_vertex:\n",
    "                grains_of_vertex[actual_vertex] = list()\n",
    "            grains_of_vertex[actual_vertex].append(i)\n",
    "    return grains_of_vertex"
   ]
  },
  {
   "cell_type": "code",
   "execution_count": 24,
   "metadata": {},
   "outputs": [],
   "source": [
    "def compute_bounds_energy(ridges, grains_of_vertex, oris, eps):\n",
    "    all_bounds_energy = np.zeros(ridges.shape[0])\n",
    "    for bound_index, (v_ini, v_end) in enumerate(ridges):\n",
    "        k = 0\n",
    "        grains_id = [0,0]\n",
    "        for i in np.arange(3):\n",
    "            actual_grain = grains_of_vertex[v_ini][i]\n",
    "            if actual_grain in grains_of_vertex[v_end]:\n",
    "                grains_id[k] = actual_grain\n",
    "                k += 1\n",
    "                if k == 2:\n",
    "                    break\n",
    "        d_alpha = oris[grains_id[0]] - oris[grains_id[1]]\n",
    "        all_bounds_energy[bound_index] = bound_energy_func(d_alpha, eps)       \n",
    "    return all_bounds_energy"
   ]
  },
  {
   "cell_type": "markdown",
   "metadata": {},
   "source": [
    "# Implementación"
   ]
  },
  {
   "cell_type": "code",
   "execution_count": 25,
   "metadata": {},
   "outputs": [],
   "source": [
    "# Obtener todos los bounds ajustados con condiciones de borde periodicas\n",
    "# boundarys_mod tiene la siguiente estructura:\n",
    "\"\"\"\n",
    "[[[inicio_vertex_x_1 inicio_vertex_y_1],\n",
    "  [fin_vertex_x_1 fin_vertex_y_1]],\n",
    "  [[inicio_vertex_x_2 inicio_vertex_y_2],\n",
    "  [fin_vertex_x_2 fin_vertex_y_2]...]\n",
    "  Donde 1 representa el boundary 1 (el que esta en la posicion 0 del array ridges).\n",
    "  La estructura de datos contiene todos los boundarys.\n",
    "\"\"\"\n",
    "boundarys = get_all_bounds_coords(ridges, vertices)\n",
    "boundarys_mod = adjust_all_bounds(boundarys, DOMAIN_BOUND)"
   ]
  },
  {
   "cell_type": "code",
   "execution_count": 26,
   "metadata": {},
   "outputs": [],
   "source": [
    "# A cada vertice se le asocian 3 boundarys en sentido horario.\n",
    "\"\"\"\n",
    "Estructura de vertex_association:\n",
    "{\n",
    "    vertice_1:[bound_1, bound_2, bound_3],\n",
    "    ...\n",
    "    vertice_n:[bound_1, bound_2, bound_3]\n",
    "}\n",
    "donde vertice_1 es un indice, que representa el vertice en la posicion 0 de el array \"vertices\",\n",
    "idem para bound_algo, son indices que representan la posicion en el array \"ridges\".\n",
    "\"\"\"\n",
    "vertex_association = associate_all_bound_to_vertex(ridges)\n",
    "vertex_set_boundaries_clockwise(vertex_association, ridges, vertices, 1.0)"
   ]
  },
  {
   "cell_type": "code",
   "execution_count": 27,
   "metadata": {},
   "outputs": [],
   "source": [
    "# A cada grano se le asocian vertices:\n",
    "\"\"\"\n",
    "Estructura de grains:\n",
    "{\n",
    "    grano_0:[vertice_1_0, vertice_2_0, ...],\n",
    "    grano_1:[vertice_1_1, vertice_2_1, ...],\n",
    "    ...\n",
    "    grano_n:[vertice_1_n, vertice_2_n, ...]\n",
    "}\n",
    "Donde grano_i es un numero que representa a un grano, que coincide con el indice de el array 'oris', \n",
    "y vertice_algo_i representan los indices de los vertices asociados al grano i en el array 'vertices'.\n",
    "\"\"\"\n",
    "N_VERTICES = vertices.shape[0]\n",
    "grains = generate_grains(N_VERTICES, vertex_association, ridges)"
   ]
  },
  {
   "cell_type": "code",
   "execution_count": 28,
   "metadata": {},
   "outputs": [],
   "source": [
    "# A cada vertices se le asocian granos:\n",
    "\"\"\"\n",
    "Estructura de grains_of_vertex:\n",
    "{\n",
    "    vertice_0:[grano_0_0, grano_1_0, grano_2_0],\n",
    "    vertice_1:[grano_1_1, grano_2_1, grano_3_1],\n",
    "    ...\n",
    "    vertice_n:[grano_1_n, grano_2_n, grano_3_n]\n",
    "}\n",
    "Donde vertice_i es un numero que representa a un vertice, que coincide con el indice de el array 'vertices', \n",
    "y grano_algo_i representan los indices de los granos, en 'oris'\n",
    "\"\"\"\n",
    "grains_of_vertex = associate_grains_to_vertex(grains)"
   ]
  },
  {
   "cell_type": "code",
   "execution_count": 29,
   "metadata": {},
   "outputs": [],
   "source": [
    "# Calcular las energias de cada boundary:\n",
    "\"\"\"\n",
    "Estructura de bound_energy:\n",
    "[energy_bound_0, energy_bound_1, ..., energy_bound_n]\n",
    "\n",
    "\"\"\"\n",
    "bounds_energy = compute_bounds_energy(ridges, grains_of_vertex, oris, eps)"
   ]
  },
  {
   "cell_type": "code",
   "execution_count": 30,
   "metadata": {},
   "outputs": [],
   "source": [
    "def eulerMethod(t0, T, N, y0, f):\n",
    "    t = np.linspace(t0, T, N+1)\n",
    "    h = (T-t0)/N\n",
    "    y = np.zeros(N+1)\n",
    "    y[0] = y0\n",
    "    for i in np.arange(N):\n",
    "        y[i+1] = y[i]+f(t[i],y[i])*h\n",
    "    return t, y"
   ]
  },
  {
   "cell_type": "code",
   "execution_count": 31,
   "metadata": {},
   "outputs": [],
   "source": [
    "def euler_solve(t0, T, N, vertices, vertex_association, ridges, bounds_energy, domain=1.0):\n",
    "    t = np.linspace(t0, T, N+1)\n",
    "    h = (T-t0)/N\n",
    "    vertices_solve = np.zeros((N+1, vertices.shape[0], 2))\n",
    "    vertices_solve[0, : ,:] = vertices\n",
    "    for i in np.arange(N):\n",
    "        for vertex in vertex_association:\n",
    "            #ahora tengo un vertice en vertex\n",
    "            neights_energys = get_neights_and_energys(vertex, vertex_association, \n",
    "                                                      ridges, bounds_energy)\n",
    "            sum = np.zeros(2)\n",
    "            for ngh, eng in neights_energys.items():\n",
    "                T = compute_T(vertices_solve[i, vertex], vertices_solve[i, ngh], domain)\n",
    "                sum += T*eng\n",
    "            vertices_solve[i+1, vertex] = vertices_solve[i, vertex]+sum*h\n",
    "    return t, vertices_solve\n",
    "            \n",
    "    "
   ]
  },
  {
   "cell_type": "code",
   "execution_count": 32,
   "metadata": {},
   "outputs": [],
   "source": [
    "t, solve = euler_solve(0, 1, 1000, vertices, vertex_association, ridges, bounds_energy, DOMAIN_BOUND)"
   ]
  },
  {
   "cell_type": "markdown",
   "metadata": {},
   "source": [
    "# Plot section: No es ejecutable desde VS CODE."
   ]
  },
  {
   "cell_type": "code",
   "execution_count": 28,
   "metadata": {},
   "outputs": [
    {
     "data": {
      "application/vnd.jupyter.widget-view+json": {
       "model_id": "46bba0240a344523b574344c33b55273",
       "version_major": 2,
       "version_minor": 0
      },
      "text/plain": [
       "interactive(children=(IntSlider(value=0, description='time'), Output()), _dom_classes=('widget-interact',))"
      ]
     },
     "metadata": {},
     "output_type": "display_data"
    }
   ],
   "source": [
    "%matplotlib notebook\n",
    "from ipywidgets import *\n",
    "figsize = (4, 4)\n",
    "LINE_WIDTH = 0.1\n",
    "VERTEX_PLOT = False\n",
    "\n",
    "\n",
    "def update(time=0):\n",
    "    plt.close()\n",
    "    fig = plt.figure(figsize=figsize)\n",
    "    ax = fig.add_subplot(111)\n",
    "    boundarys = get_all_bounds_coords(ridges, solve[time])\n",
    "    boundarys_mod = adjust_all_bounds(boundarys, DOMAIN_BOUND)\n",
    "    coords = [bnd for bnd in boundarys_mod]\n",
    "    coords2 = [bnd+[DOMAIN_BOUND,0] for bnd in boundarys_mod if np.any(bnd[:,0] < 0)]\n",
    "    coords3 = [bnd+[-DOMAIN_BOUND,0] for bnd in boundarys_mod if np.any(bnd[:,0] > DOMAIN_BOUND)]\n",
    "    coords4 = [bnd+[0,DOMAIN_BOUND] for bnd in boundarys_mod if np.any(bnd[:,1] < 0)]\n",
    "    coords5 = [bnd+[0,-DOMAIN_BOUND] for bnd in boundarys_mod if np.any(bnd[:,1] > DOMAIN_BOUND)]\n",
    "    coords6 = [bnd+[DOMAIN_BOUND,DOMAIN_BOUND] for bnd in boundarys_mod \\\n",
    "                if np.any(bnd[:,0] < 0) and np.any(bnd[:,1] < 0)]\n",
    "    coords7 = [bnd+[-DOMAIN_BOUND,-DOMAIN_BOUND] for bnd in boundarys_mod \\\n",
    "                if np.any(bnd[:,0] > DOMAIN_BOUND) and np.any(bnd[:,1] > DOMAIN_BOUND)]\n",
    "    coords8 = [bnd+[-DOMAIN_BOUND,DOMAIN_BOUND] for bnd in boundarys_mod \\\n",
    "                if np.any(bnd[:,0] > DOMAIN_BOUND) and np.any(bnd[:,1] < 0)]\n",
    "    coords9 = [bnd+[DOMAIN_BOUND,-DOMAIN_BOUND] for bnd in boundarys_mod \\\n",
    "                if np.any(bnd[:,0] < 0) and np.any(bnd[:,1] > DOMAIN_BOUND)]\n",
    "    coords = coords+coords2+coords3+coords4+coords5+coords6+coords7+coords8+coords9\n",
    "    bnd_collection = LineCollection(coords, lw=LINE_WIDTH, color='k')\n",
    "    ax.add_collection(bnd_collection)\n",
    "    ax.set_ylim(ymin=0.0, ymax=1.0)\n",
    "    ax.set_xlim(xmin=0.0, xmax=1.0)\n",
    "interact(update, time=(0, t.shape[0]));"
   ]
  },
  {
   "cell_type": "code",
   "execution_count": 39,
   "metadata": {},
   "outputs": [
    {
     "name": "stderr",
     "output_type": "stream",
     "text": [
      "C:\\Users\\Cristóbal Abarca\\AppData\\Local\\Temp\\ipykernel_7528\\2826056373.py:46: DeprecationWarning: Starting with ImageIO v3 the behavior of this function will switch to that of iio.v3.imread. To keep the current behavior (and make this warning dissapear) use `import imageio.v2 as imageio` or call `imageio.v2.imread` directly.\n",
      "  image = imageio.imread(filename)\n"
     ]
    },
    {
     "data": {
      "image/png": "[encoded data removed]",
      "text/plain": [
       "<Figure size 288x288 with 1 Axes>"
      ]
     },
     "metadata": {
      "needs_background": "light"
     },
     "output_type": "display_data"
    }
   ],
   "source": [
    "# Acá es para  generar un gif\n",
    "import os\n",
    "import glob\n",
    "import imageio\n",
    "\n",
    "figsize = (4, 4)\n",
    "LINE_WIDTH = 0.1\n",
    "VERTEX_PLOT = False\n",
    "try:\n",
    "    os.remove('./mygif.gif')\n",
    "except:\n",
    "    pass\n",
    "\n",
    "for time in np.arange(t.shape[0]):\n",
    "    plt.close()\n",
    "    fig = plt.figure(figsize=figsize)\n",
    "    ax = fig.add_subplot(111)\n",
    "    boundarys = get_all_bounds_coords(ridges, solve[time])\n",
    "    boundarys_mod = adjust_all_bounds(boundarys, DOMAIN_BOUND)\n",
    "    coords = [bnd for bnd in boundarys_mod]\n",
    "    coords2 = [bnd+[DOMAIN_BOUND,0] for bnd in boundarys_mod if np.any(bnd[:,0] < 0)]\n",
    "    coords3 = [bnd+[-DOMAIN_BOUND,0] for bnd in boundarys_mod if np.any(bnd[:,0] > DOMAIN_BOUND)]\n",
    "    coords4 = [bnd+[0,DOMAIN_BOUND] for bnd in boundarys_mod if np.any(bnd[:,1] < 0)]\n",
    "    coords5 = [bnd+[0,-DOMAIN_BOUND] for bnd in boundarys_mod if np.any(bnd[:,1] > DOMAIN_BOUND)]\n",
    "    coords6 = [bnd+[DOMAIN_BOUND,DOMAIN_BOUND] for bnd in boundarys_mod \\\n",
    "                if np.any(bnd[:,0] < 0) and np.any(bnd[:,1] < 0)]\n",
    "    coords7 = [bnd+[-DOMAIN_BOUND,-DOMAIN_BOUND] for bnd in boundarys_mod \\\n",
    "                if np.any(bnd[:,0] > DOMAIN_BOUND) and np.any(bnd[:,1] > DOMAIN_BOUND)]\n",
    "    coords8 = [bnd+[-DOMAIN_BOUND,DOMAIN_BOUND] for bnd in boundarys_mod \\\n",
    "                if np.any(bnd[:,0] > DOMAIN_BOUND) and np.any(bnd[:,1] < 0)]\n",
    "    coords9 = [bnd+[DOMAIN_BOUND,-DOMAIN_BOUND] for bnd in boundarys_mod \\\n",
    "                if np.any(bnd[:,0] < 0) and np.any(bnd[:,1] > DOMAIN_BOUND)]\n",
    "    coords = coords+coords2+coords3+coords4+coords5+coords6+coords7+coords8+coords9\n",
    "    bnd_collection = LineCollection(coords, lw=LINE_WIDTH, color='k')\n",
    "    ax.add_collection(bnd_collection)\n",
    "    ax.set_ylim(ymin=0.0, ymax=1.0)\n",
    "    ax.set_xlim(xmin=0.0, xmax=1.0)\n",
    "    plt.savefig('../images/{}.png'.format(time))\n",
    "\n",
    "with imageio.get_writer('mygif.gif', mode='I') as writer:\n",
    "    for filename in ['../images/{}.png'.format(i) for i in range(0, t.shape[0])]:\n",
    "        image = imageio.imread(filename)\n",
    "        writer.append_data(image)\n",
    "\n",
    "files = glob.glob('../images/*')\n",
    "for f in files:\n",
    "    print(f)\n",
    "    os.remove(f)"
   ]
  }
 ],
 "metadata": {
  "interpreter": {
   "hash": "369f2c481f4da34e4445cda3fffd2e751bd1c4d706f27375911949ba6bb62e1c"
  },
  "kernelspec": {
   "display_name": "Python 3.10.2 64-bit",
   "language": "python",
   "name": "python3"
  },
  "language_info": {
   "codemirror_mode": {
    "name": "ipython",
    "version": 3
   },
   "file_extension": ".py",
   "mimetype": "text/x-python",
   "name": "python",
   "nbconvert_exporter": "python",
   "pygments_lexer": "ipython3",
   "version": "3.10.2"
  },
  "orig_nbformat": 4
 },
 "nbformat": 4,
 "nbformat_minor": 2
}
