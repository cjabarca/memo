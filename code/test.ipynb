{
 "cells": [
  {
   "cell_type": "code",
   "execution_count": null,
   "metadata": {},
   "outputs": [],
   "source": [
    "import numpy as np\n",
    "import scipy as sp\n",
    "import matplotlib.pyplot as plt\n",
    "from matplotlib.collections import LineCollection"
   ]
  },
  {
   "cell_type": "code",
   "execution_count": null,
   "metadata": {},
   "outputs": [],
   "source": [
    "PATH = '../voronoi/2K'\n",
    "VERTEX_PATH = PATH + '/vertices.txt'\n",
    "RIDGES_PATH = PATH + '/ridges.txt'\n",
    "ORIS_PATH = PATH + '/oris.txt'\n",
    "SE_PATH = PATH + '/SE/uniform.txt'"
   ]
  },
  {
   "cell_type": "code",
   "execution_count": null,
   "metadata": {},
   "outputs": [],
   "source": [
    "ridges = np.loadtxt(RIDGES_PATH, dtype = int)\n",
    "vertices = np.loadtxt(VERTEX_PATH)\n",
    "oris = np.loadtxt(ORIS_PATH)\n",
    "SE = np.loadtxt(SE_PATH)"
   ]
  },
  {
   "cell_type": "code",
   "execution_count": null,
   "metadata": {},
   "outputs": [],
   "source": [
    "def wrap_dist(dest, orig, DOMAIN_BOUND):\n",
    "    delta = dest - orig\n",
    "    if delta[0] > DOMAIN_BOUND*0.5:\n",
    "        delta[0] = delta[0] - DOMAIN_BOUND\n",
    "    elif delta[0] < -0.5*DOMAIN_BOUND:\n",
    "        delta[0] = DOMAIN_BOUND + delta[0]\n",
    "    if delta[1] > 0.5*DOMAIN_BOUND:\n",
    "        delta[1] = delta[1] - DOMAIN_BOUND\n",
    "    elif delta[1] < -0.5*DOMAIN_BOUND:\n",
    "        delta[1] = DOMAIN_BOUND + delta[1]\n",
    "    return delta"
   ]
  },
  {
   "cell_type": "code",
   "execution_count": null,
   "metadata": {},
   "outputs": [],
   "source": [
    "def _adjust_points(xpos, ypos, DOMAIN_BOUND):\n",
    "    xret = np.zeros(len(xpos))\n",
    "    yret = np.zeros(len(xpos))\n",
    "    xret[:] = xpos\n",
    "    yret[:] = ypos\n",
    "    for i in range(1, len(xpos)):\n",
    "        curr = np.array([xret[i], yret[i]])\n",
    "        prev = np.array([xret[i - 1], yret[i - 1]])\n",
    "        delta = wrap_dist(curr, prev, DOMAIN_BOUND)\n",
    "        curr = prev + delta\n",
    "        xret[i] = curr[0]\n",
    "        yret[i] = curr[1]\n",
    "    return xret, yret"
   ]
  },
  {
   "cell_type": "code",
   "execution_count": null,
   "metadata": {},
   "outputs": [],
   "source": [
    "def plot_structure(boundarys, vertexs, domain=1.0, lw=1.0, figsize=(10, 7), vertex_plot=False):\n",
    "    \"\"\"\n",
    "        Plot boundaries lines\n",
    "    \"\"\"\n",
    "    fig = plt.figure(figsize=figsize)\n",
    "    ax = fig.add_subplot(111)\n",
    "    coords = [bnd for bnd in boundarys]\n",
    "    coords2 = [bnd+[domain,0] for bnd in boundarys if np.any(bnd[:,0] < 0)]\n",
    "    coords3 = [bnd+[-domain,0] for bnd in boundarys if np.any(bnd[:,0] > domain)]\n",
    "    coords4 = [bnd+[0,domain] for bnd in boundarys if np.any(bnd[:,1] < 0)]\n",
    "    coords5 = [bnd+[0,-domain] for bnd in boundarys if np.any(bnd[:,1] > domain)]\n",
    "    coords6 = [bnd+[domain,domain] for bnd in boundarys \\\n",
    "                if np.any(bnd[:,0] < 0) and np.any(bnd[:,1] < 0)]\n",
    "    coords7 = [bnd+[-domain,-domain] for bnd in boundarys \\\n",
    "                if np.any(bnd[:,0] > domain) and np.any(bnd[:,1] > domain)]\n",
    "    coords8 = [bnd+[-domain,domain] for bnd in boundarys \\\n",
    "                if np.any(bnd[:,0] > domain) and np.any(bnd[:,1] < 0)]\n",
    "    coords9 = [bnd+[domain,-domain] for bnd in boundarys \\\n",
    "                if np.any(bnd[:,0] < 0) and np.any(bnd[:,1] > domain)]\n",
    "    coords = coords+coords2+coords3+coords4+coords5+coords6+coords7+coords8+coords9\n",
    "    bnd_collection = LineCollection(coords, lw=lw, color='k')\n",
    "    ax.add_collection(bnd_collection)\n",
    "    \"\"\"\n",
    "        Plot vertexs\n",
    "    \"\"\"\n",
    "    if vertex_plot:\n",
    "        plt.xlim(0., 1.)\n",
    "        plt.ylim(0., 1.)\n",
    "        plt.plot(vertexs[:,0], vertexs[:, 1], \"ko\", ms=1.0)\n",
    "    return ax"
   ]
  },
  {
   "cell_type": "code",
   "execution_count": null,
   "metadata": {},
   "outputs": [],
   "source": [
    "def get_all_bounds_coords(ridges, vertices):\n",
    "    boundarys = np.array([[[vertices[bound[0]][0], \n",
    "                        vertices[bound[0]][1]],\n",
    "                       [vertices[bound[1]][0], \n",
    "                        vertices[bound[1]][1]]] for bound in ridges])\n",
    "    return boundarys"
   ]
  },
  {
   "cell_type": "code",
   "execution_count": null,
   "metadata": {},
   "outputs": [],
   "source": [
    "def adjust_all_bounds(boundarys_mod, bound_domain):\n",
    "    boundarys_mod = np.zeros(boundarys_mod.shape)\n",
    "    for index, bound in enumerate(boundarys_mod):\n",
    "        ret = _adjust_points(bound[:,0], bound[:,1], bound_domain)\n",
    "        boundarys_mod[index][:, 0] = ret[0]\n",
    "        boundarys_mod[index][:, 1] = ret[1]\n",
    "    return boundarys_mod"
   ]
  },
  {
   "cell_type": "code",
   "execution_count": null,
   "metadata": {},
   "outputs": [],
   "source": [
    "def compute_T(x_init, x_fin):\n",
    "    x_coor = np.dot(x_init, x_fin) / (np.linalg.norm(x_init) * np.linalg.norm(x_fin))\n",
    "    y_coor = np.sin(np.arccos(x_coor))\n",
    "    T_m = [x_coor, y_coor]\n",
    "    return T_m"
   ]
  },
  {
   "cell_type": "code",
   "execution_count": null,
   "metadata": {},
   "outputs": [],
   "source": [
    "def motion_single_x(xm, x_neights, y_neights):\n",
    "    vecs = np.array([compute_T(xm, xi)*yi for xi, yi in zip(x_neights, y_neights)])\n",
    "    der = np.sum(vecs, axis=0)\n",
    "    return der"
   ]
  },
  {
   "cell_type": "code",
   "execution_count": null,
   "metadata": {},
   "outputs": [],
   "source": [
    "\"\"\"\n",
    "def associate_grain_vertex():\n",
    "    for(int i = 0; i < opt.n_grains; i++):\n",
    "        for(int j = 0; j < grains[i].vlen; j++):\n",
    "            if(vrt->grains[0] == NULL) {\n",
    "                vrt->grains[0] = grn;\n",
    "            } else if(vrt->grains[1] == NULL) {\n",
    "                vrt->grains[1] = grn;\n",
    "            } else if(vrt->grains[2] == NULL) {\n",
    "                vrt->grains[2] = grn;\n",
    "            vertex_add_grain(grains[i].vertices[j], &grains[i]) \n",
    "            #__device__ __host__ inline void vertex_add_grain(vertex *vrt, grain *grn)\n",
    "def associate_grain_vertex(n_grains):\n",
    "\"\"\"\n",
    "#TODO LIST:\n",
    "#1-Como saber cuantos vertices tiene asociado un grano?.\n",
    "#2-Dado los vertices que tiene asociados, como asocio los vertices a un grano?.\n",
    "#3-Dado los 3 granos asociados a dos vertices, como saber el boundary que los separa?.\n",
    "        "
   ]
  },
  {
   "cell_type": "code",
   "execution_count": null,
   "metadata": {},
   "outputs": [],
   "source": [
    "\"\"\"\n",
    "def grains_intersect(vertex *a, vertex *b, grain** grain_ids) {\n",
    "    int k = 0;\n",
    "    for(int i = 0; i < 3; i++) {\n",
    "        for(int j = 0; j < 3; j++) {\n",
    "            if(a->grains[i] == b->grains[j]) {\n",
    "                grain_ids[k++] = a->grains[i];\n",
    "                if(k == 2)\n",
    "                    return;\n",
    "            }\n",
    "        }\n",
    "    }\n",
    "}\n",
    "\"\"\""
   ]
  },
  {
   "cell_type": "code",
   "execution_count": null,
   "metadata": {},
   "outputs": [],
   "source": [
    "def bound_energy_func(d_alpha, eps):\n",
    "    return 1. + 0.5*eps*(1. - np.power(np.cos(4.*d_alpha), 3.))"
   ]
  },
  {
   "cell_type": "code",
   "execution_count": null,
   "metadata": {},
   "outputs": [],
   "source": [
    "def boundary_compute_energy(bound, eps=0.02):\n",
    "    #Todo\n",
    "    "
   ]
  },
  {
   "cell_type": "code",
   "execution_count": null,
   "metadata": {},
   "outputs": [],
   "source": [
    "DOMAIN_BOUND = 1.0\n",
    "boundarys = get_all_bounds_coords(ridges, vertices)\n",
    "boundarys_mod = adjust_all_bounds(boundarys, DOMAIN_BOUND)"
   ]
  },
  {
   "cell_type": "markdown",
   "metadata": {},
   "source": [
    "# Plot section:"
   ]
  },
  {
   "cell_type": "code",
   "execution_count": null,
   "metadata": {},
   "outputs": [],
   "source": [
    "figsize = (30, 30)\n",
    "LINE_WIDTH = 0.1\n",
    "VERTEX_PLOT = True\n",
    "plot_structure(boundarys_mod, vertices, DOMAIN_BOUND, LINE_WIDTH, figsize, VERTEX_PLOT)"
   ]
  },
  {
   "cell_type": "markdown",
   "metadata": {},
   "source": [
    "# Legacy code"
   ]
  },
  {
   "cell_type": "code",
   "execution_count": null,
   "metadata": {},
   "outputs": [],
   "source": [
    "def plot_grains(vertices, ridges, figsize=(10,7), vertex_plot = True, vertex_size = 3):\n",
    "    plt.figure(figsize=figsize)\n",
    "    vertex_total = vertices.shape[0]    \n",
    "    # Quadrants for periodic boundary conditions\n",
    "    quadrants = np.concatenate((\n",
    "                                        vertices, # Quinto cuadrante\n",
    "                                        vertices + [-1., 1.], # Primer cuadrante\n",
    "                                        vertices + [0., 1.], # Segundo cuadrante\n",
    "                                        vertices + [1., 1.], # Tercer cuadrante\n",
    "                                        vertices + [-1., 0.], # Cuarto cuadrante\n",
    "                                        vertices + [1., 0.], # Sexto cuadrante\n",
    "                                        vertices + [-1., -1.], # Séptimo cuadrante\n",
    "                                        vertices + [0., -1.], # Octavo cuadrante\n",
    "                                        vertices + [1., -1.] # Noveno cuadrante\n",
    "                                        ), axis=0)\n",
    "    \"\"\"\n",
    "    ----------------------------------\n",
    "             -             -\n",
    "      1      -     2       -     3\n",
    "    ----------------------------------\n",
    "             -             -\n",
    "      4      -     5       -     6\n",
    "    ----------------------------------\n",
    "             -             -\n",
    "      7      -     8       -     9\n",
    "    ----------------------------------\n",
    "    \"\"\"\n",
    "    for vpair in ridges:\n",
    "        v0 = vertices[vpair[0]]\n",
    "        v1 = vertices[vpair[1]]\n",
    "        \"\"\"\n",
    "            Heuristica que indica si 2 vertices estan conectados a traves de bordes.\n",
    "            Si la distancia entre 2 vertices conectados es >= 0.5, estan conectados a traves de un borde.\n",
    "        \"\"\"\n",
    "        if np.linalg.norm(v1-v0) < 0.5:   \n",
    "            # Draw a line from v0 to v1.\n",
    "            plt.plot([v0[0], v1[0]], [v0[1], v1[1]], 'k', linewidth=0.5)\n",
    "        else:\n",
    "            min_v0 = (np.infty,-1)\n",
    "            min_v1 = (np.infty,-1)\n",
    "            # Se escoje el cuadrante con la menor distancia entre el par de vertices y se hace plot a 2 lineas.\n",
    "            for vertex_number in range(vertex_total, quadrants.shape[0], vertex_total):\n",
    "                norm_v0 = np.linalg.norm(quadrants[vertex_number + vpair[1]] - v0)\n",
    "                norm_v1 = np.linalg.norm(quadrants[vertex_number + vpair[0]] - v1)\n",
    "                if norm_v0 < min_v0[0]:\n",
    "                    min_v0 = (norm_v0, vertex_number)\n",
    "                if norm_v1 < min_v1[0]:\n",
    "                    min_v1 = (norm_v1, vertex_number)\n",
    "            plt.plot([v0[0], quadrants[min_v0[1] + vpair[1]][0]], [v0[1], quadrants[min_v0[1] + vpair[1]][1]], 'k', linewidth=0.5)\n",
    "            plt.plot([v1[0], quadrants[min_v1[1] + vpair[0]][0]], [v1[1], quadrants[min_v1[1] + vpair[0]][1]], 'k', linewidth=0.5)\n",
    "    # Se toma solo el plot de el quinto cuadrante.\n",
    "    plt.xlim(0., 1.)\n",
    "    plt.ylim(0., 1.)\n",
    "    # Mark the Voronoi vertices if vertex_plot = True.\n",
    "    if vertex_plot:\n",
    "        plt.plot(vertices[:,0], vertices[:, 1], \"ko\", ms=vertex_size)\n",
    "    plt.show()"
   ]
  },
  {
   "cell_type": "code",
   "execution_count": null,
   "metadata": {},
   "outputs": [],
   "source": [
    "plot_grains(vertices, ridges)"
   ]
  }
 ],
 "metadata": {
  "interpreter": {
   "hash": "a5bed4563e45c43f6785f2e74097bf4c87c1b70b49018c8778227104a029b5b0"
  },
  "kernelspec": {
   "display_name": "Python 3.9.7 64-bit (system)",
   "language": "python",
   "name": "python3"
  },
  "language_info": {
   "codemirror_mode": {
    "name": "ipython",
    "version": 3
   },
   "file_extension": ".py",
   "mimetype": "text/x-python",
   "name": "python",
   "nbconvert_exporter": "python",
   "pygments_lexer": "ipython3",
   "version": "3.9.7"
  },
  "orig_nbformat": 4
 },
 "nbformat": 4,
 "nbformat_minor": 2
}
